{
 "cells": [
  {
   "cell_type": "code",
   "execution_count": 2,
   "metadata": {
    "collapsed": true
   },
   "outputs": [],
   "source": [
    "import smtplib\n",
    "from email.mime.multipart import MIMEMultipart\n",
    "from email.mime.text import MIMEText\n",
    "import xlrd\n",
    "#import schedule\n",
    "import time\n",
    "import codecsjjj"
   ]
  },
  {
   "cell_type": "code",
   "execution_count": null,
   "metadata": {},
   "outputs": [],
   "source": []
  },
  {
   "cell_type": "code",
   "execution_count": 3,
   "metadata": {
    "collapsed": false
   },
   "outputs": [
    {
     "ename": "NameError",
     "evalue": "name 'schedule' is not defined",
     "traceback": [
      "\u001b[1;31m---------------------------------------------------------------------------\u001b[0m",
      "\u001b[1;31mNameError\u001b[0m                                 Traceback (most recent call last)",
      "\u001b[1;32m<ipython-input-3-3fd6f561dda5>\u001b[0m in \u001b[0;36m<module>\u001b[1;34m()\u001b[0m\n\u001b[0;32m     32\u001b[0m         \u001b[0ms\u001b[0m\u001b[1;33m.\u001b[0m\u001b[0mquit\u001b[0m\u001b[1;33m(\u001b[0m\u001b[1;33m)\u001b[0m\u001b[1;33m\u001b[0m\u001b[1;33m\u001b[0m\u001b[0m\n\u001b[0;32m     33\u001b[0m \u001b[1;33m\u001b[0m\u001b[0m\n\u001b[1;32m---> 34\u001b[1;33m \u001b[0mschedule\u001b[0m\u001b[1;33m.\u001b[0m\u001b[0mevery\u001b[0m\u001b[1;33m(\u001b[0m\u001b[1;33m)\u001b[0m\u001b[1;33m.\u001b[0m\u001b[0mwednesday\u001b[0m\u001b[1;33m.\u001b[0m\u001b[0mat\u001b[0m\u001b[1;33m(\u001b[0m\u001b[1;34m\"18:26\"\u001b[0m\u001b[1;33m)\u001b[0m\u001b[1;33m.\u001b[0m\u001b[0mdo\u001b[0m\u001b[1;33m(\u001b[0m\u001b[0mrealtor_email_v2\u001b[0m\u001b[1;33m)\u001b[0m\u001b[1;33m\u001b[0m\u001b[1;33m\u001b[0m\u001b[0m\n\u001b[0m\u001b[0;32m     35\u001b[0m \u001b[1;33m\u001b[0m\u001b[0m\n\u001b[0;32m     36\u001b[0m \u001b[1;31m# while True:\u001b[0m\u001b[1;33m\u001b[0m\u001b[1;33m\u001b[0m\u001b[1;33m\u001b[0m\u001b[0m\n",
      "\u001b[1;31mNameError\u001b[0m: name 'schedule' is not defined"
     ],
     "output_type": "error"
    }
   ],
   "source": [
    "def realtor_email_v2():\n",
    "\n",
    "    MY_ADDRESS = 'anthony@wslmi.com'\n",
    "    MY_PASSWORD = 'Wallstreet8478'\n",
    "\n",
    "    workbook=xlrd.open_workbook('C:/Users/ashkrelja/Documents/Wall_Street_Lending/Marketing/Email/Programmatic_Email/email.xls')\n",
    "\n",
    "    worksheet=workbook.sheet_by_index(0)\n",
    "\n",
    "    for index in range(1, worksheet.nrows):\n",
    "\n",
    "        fromaddr = 'Wall Street Lending <apply@wslmi.com>'\n",
    "        toaddr = str(worksheet.cell(index,0).value)\n",
    "\n",
    "        msg = MIMEMultipart('alternative')\n",
    "        msg['From'] = fromaddr\n",
    "        msg['To'] = toaddr\n",
    "        msg['Subject'] = \"DropBox HTML IMG Link\" #\"Base64 Embedded HTML IMG\"#\"Qualify more clients!\"\n",
    "        \n",
    "        \n",
    "        body4 =codecs.open(\"C:/Users/ashkrelja/Documents/Wall_Street_Lending/Marketing/Email/Programmatic_Email/Realtor_Email_V1.html\",\"r\")\n",
    "        \n",
    "\n",
    "        html_msg = MIMEText(body4.read(), 'html')\n",
    "        msg.attach(html_msg)\n",
    "\n",
    "        s = smtplib.SMTP_SSL(host='smtpout.secureserver.net', port=465)\n",
    "        s.ehlo()\n",
    "        s.login(MY_ADDRESS, MY_PASSWORD)\n",
    "        text = msg.as_string()\n",
    "        s.sendmail(fromaddr, toaddr, text)\n",
    "        s.quit()\n",
    "        \n",
    "schedule.every().wednesday.at(\"18:26\").do(realtor_email_v2)\n",
    "\n",
    "# while True:\n",
    "#     schedule.run_pending()\n",
    "#     time.sleep(1)"
   ]
  },
  {
   "cell_type": "code",
   "execution_count": 13,
   "metadata": {
    "collapsed": false
   },
   "outputs": [],
   "source": [
    "realtor_email_v2()"
   ]
  },
  {
   "cell_type": "code",
   "execution_count": 8,
   "metadata": {
    "collapsed": false
   },
   "outputs": [
    {
     "ename": "ValueError",
     "evalue": "empty separator",
     "traceback": [
      "\u001b[0;31m---------------------------------------------------------------------------\u001b[0m",
      "\u001b[0;31mValueError\u001b[0m                                Traceback (most recent call last)",
      "\u001b[0;32m<ipython-input-8-8e1869cfba91>\u001b[0m in \u001b[0;36m<module>\u001b[0;34m()\u001b[0m\n\u001b[0;32m----> 1\u001b[0;31m \u001b[0mSUITE\u001b[0m \u001b[1;33m=\u001b[0m \u001b[1;34m'H D S C'\u001b[0m\u001b[1;33m.\u001b[0m\u001b[0msplit\u001b[0m\u001b[1;33m(\u001b[0m\u001b[1;34m''\u001b[0m\u001b[1;33m)\u001b[0m\u001b[1;33m\u001b[0m\u001b[0m\n\u001b[0m\u001b[1;32m      2\u001b[0m \u001b[0mRANKS\u001b[0m \u001b[1;33m=\u001b[0m \u001b[1;34m'2 3 4 5 6 7 8 9 10 J Q K A'\u001b[0m\u001b[1;33m.\u001b[0m\u001b[0msplit\u001b[0m\u001b[1;33m(\u001b[0m\u001b[1;33m)\u001b[0m\u001b[1;33m\u001b[0m\u001b[0m\n",
      "\u001b[0;31mValueError\u001b[0m: empty separator"
     ],
     "output_type": "error"
    }
   ],
   "source": [
    "SUITE = 'H D S C'.split('')\n",
    "RANKS = '2 3 4 5 6 7 8 9 10 J Q K A'.split()"
   ]
  },
  {
   "cell_type": "code",
   "execution_count": 9,
   "metadata": {
    "collapsed": false
   },
   "outputs": [
    {
     "name": "stdout",
     "output_type": "stream",
     "text": [
      "<type 'list'>\n"
     ]
    }
   ],
   "source": [
    "print(type(SUITE))"
   ]
  },
  {
   "cell_type": "code",
   "execution_count": 23,
   "metadata": {
    "collapsed": false
   },
   "outputs": [
    {
     "name": "stdout",
     "output_type": "stream",
     "text": [
      "[('H', '2'), ('H', '3'), ('H', '4'), ('H', '5'), ('H', '6'), ('H', '7'), ('H', '8'), ('H', '9'), ('H', '10'), ('H', 'J'), ('H', 'Q'), ('H', 'K'), ('H', 'A'), ('D', '2'), ('D', '3'), ('D', '4'), ('D', '5'), ('D', '6'), ('D', '7'), ('D', '8'), ('D', '9'), ('D', '10'), ('D', 'J'), ('D', 'Q'), ('D', 'K'), ('D', 'A'), ('S', '2'), ('S', '3'), ('S', '4'), ('S', '5'), ('S', '6'), ('S', '7'), ('S', '8'), ('S', '9'), ('S', '10'), ('S', 'J'), ('S', 'Q'), ('S', 'K'), ('S', 'A'), ('C', '2'), ('C', '3'), ('C', '4'), ('C', '5'), ('C', '6'), ('C', '7'), ('C', '8'), ('C', '9'), ('C', '10'), ('C', 'J'), ('C', 'Q'), ('C', 'K'), ('C', 'A')]\n"
     ]
    }
   ],
   "source": [
    "deck = []\n",
    "for i in SUITE:\n",
    "    for j in RANKS:\n",
    "        deck.append((i,j))\n",
    "print(deck)\n",
    "                    \n"
   ]
  },
  {
   "cell_type": "code",
   "execution_count": 32,
   "metadata": {
    "collapsed": false
   },
   "outputs": [
    {
     "ename": "TypeError",
     "evalue": "'bool' object is not iterable",
     "traceback": [
      "\u001b[0;31m---------------------------------------------------------------------------\u001b[0m",
      "\u001b[0;31mTypeError\u001b[0m                                 Traceback (most recent call last)",
      "\u001b[0;32m<ipython-input-32-73d6f9732881>\u001b[0m in \u001b[0;36m<module>\u001b[0;34m()\u001b[0m\n\u001b[0;32m----> 1\u001b[0;31m \u001b[0mdeck\u001b[0m \u001b[1;33m=\u001b[0m \u001b[1;33m[\u001b[0m\u001b[0mappend\u001b[0m\u001b[1;33m(\u001b[0m\u001b[0mi\u001b[0m\u001b[1;33m,\u001b[0m\u001b[0mj\u001b[0m\u001b[1;33m)\u001b[0m \u001b[1;32mfor\u001b[0m \u001b[0mi\u001b[0m \u001b[1;32min\u001b[0m \u001b[0mSUITE\u001b[0m \u001b[1;32mand\u001b[0m \u001b[0mj\u001b[0m \u001b[1;32min\u001b[0m \u001b[0mRANKS\u001b[0m\u001b[1;33m]\u001b[0m\u001b[1;33m\u001b[0m\u001b[0m\n\u001b[0m",
      "\u001b[0;31mTypeError\u001b[0m: 'bool' object is not iterable"
     ],
     "output_type": "error"
    }
   ],
   "source": [
    "deck = [append(i,j) for i in SUITE and j in RANKS]"
   ]
  },
  {
   "cell_type": "code",
   "execution_count": 33,
   "metadata": {
    "collapsed": false
   },
   "outputs": [
    {
     "name": "stdout",
     "output_type": "stream",
     "text": [
      "None\n"
     ]
    }
   ],
   "source": [
    "SUITE = 'H D S C'.split()\n",
    "RANKS = '2 3 4 5 6 7 8 9 10 J Q K A'.split()\n",
    "\n",
    "class Deck:\n",
    "    \"\"\"\n",
    "    This is the Deck Class. This object will create a deck of cards to initiate\n",
    "    play. You can then use this Deck list of cards to split in half and give to\n",
    "    the players. It will use SUITE and RANKS to create the deck. It should also\n",
    "    have a method for splitting/cutting the deck in half and Shuffling the deck.\n",
    "    \"\"\"\n",
    "    import random\n",
    "\n",
    "    # SUITE = 'H D S C'.split()\n",
    "    # RANKS = '2 3 4 5 6 7 8 9 10 J Q K A'.split()\n",
    "\n",
    "    def __init__(self, SUITE, RANKS):\n",
    "        self.SUITE = SUITE\n",
    "        self.RANKS = RANKS\n",
    "\n",
    "    def create_deck(self):\n",
    "\n",
    "        self.DECK = []\n",
    "        for i in self.SUITE:\n",
    "            for j in self.RANKS:\n",
    "                self.DECK.append((i,j))\n",
    "\n",
    "        return self.random.shuffle(self.DECK)\n",
    "\n",
    "mydeck=Deck(SUITE=SUITE,RANKS=RANKS)\n",
    "print(mydeck.create_deck())\n"
   ]
  },
  {
   "cell_type": "code",
   "execution_count": 47,
   "metadata": {
    "collapsed": false
   },
   "outputs": [
    {
     "data": {
      "text/plain": [
       "[['S', 'Q'],\n",
       " ['S', 'K'],\n",
       " ['C', '3'],\n",
       " ['D', 'Q'],\n",
       " ['C', '4'],\n",
       " ['S', '9'],\n",
       " ['C', 'Q'],\n",
       " ['H', '3'],\n",
       " ['D', '5'],\n",
       " ['H', '7'],\n",
       " ['S', '10'],\n",
       " ['C', 'J'],\n",
       " ['H', 'A'],\n",
       " ['C', '7'],\n",
       " ['H', '4'],\n",
       " ['C', '8'],\n",
       " ['D', '7'],\n",
       " ['H', '9'],\n",
       " ['H', '6'],\n",
       " ['C', 'A'],\n",
       " ['H', '8'],\n",
       " ['D', 'K'],\n",
       " ['H', '10'],\n",
       " ['C', '10'],\n",
       " ['H', 'K'],\n",
       " ['H', '5'],\n",
       " ['D', '2'],\n",
       " ['D', '3'],\n",
       " ['D', '9'],\n",
       " ['H', 'J'],\n",
       " ['C', 'K'],\n",
       " ['S', '6'],\n",
       " ['C', '9'],\n",
       " ['S', '7'],\n",
       " ['D', '4'],\n",
       " ['D', 'J'],\n",
       " ['D', '6'],\n",
       " ['S', 'A'],\n",
       " ['C', '5'],\n",
       " ['S', '8'],\n",
       " ['S', '2'],\n",
       " ['S', 'J'],\n",
       " ['H', 'Q'],\n",
       " ['S', '3'],\n",
       " ['D', '10'],\n",
       " ['S', '4'],\n",
       " ['S', '5'],\n",
       " ['C', '6'],\n",
       " ['H', '2'],\n",
       " ['C', '2'],\n",
       " ['D', '8'],\n",
       " ['D', 'A']]"
      ]
     },
     "execution_count": 47,
     "metadata": {},
     "output_type": "execute_result"
    }
   ],
   "source": [
    "def create_deck():\n",
    "    \n",
    "    import numpy\n",
    "    \n",
    "    SUITE = 'H D S C'.split()\n",
    "    RANKS = '2 3 4 5 6 7 8 9 10 J Q K A'.split()\n",
    "\n",
    "\n",
    "    DECK = []\n",
    "    for i in SUITE:\n",
    "        for j in RANKS:\n",
    "            DECK.append([i,j])\n",
    "    numpy.random.shuffle(DECK)\n",
    "\n",
    "    return DECK\n",
    "\n",
    "\n",
    "create_deck()"
   ]
  },
  {
   "cell_type": "code",
   "execution_count": 4,
   "metadata": {
    "collapsed": false
   },
   "outputs": [
    {
     "ename": "IOError",
     "evalue": "[Errno 2] No such file or directory: 'C:/Users/ashkrelja/Documents/Wall_Street_Lending/Marketing/Email/Programmatic_Email/Realtor_Data/Realtor_MI_Emails_Final_CleanedV1.xlsx'",
     "traceback": [
      "\u001b[0;31m---------------------------------------------------------------------------\u001b[0m",
      "\u001b[0;31mIOError\u001b[0m                                   Traceback (most recent call last)",
      "\u001b[0;32m<ipython-input-4-6551434ed87e>\u001b[0m in \u001b[0;36m<module>\u001b[0;34m()\u001b[0m\n\u001b[1;32m      1\u001b[0m \u001b[1;32mimport\u001b[0m \u001b[0mxlrd\u001b[0m\u001b[1;33m\u001b[0m\u001b[0m\n\u001b[1;32m      2\u001b[0m \u001b[1;33m\u001b[0m\u001b[0m\n\u001b[0;32m----> 3\u001b[0;31m \u001b[0mstuff\u001b[0m \u001b[1;33m=\u001b[0m \u001b[0mxlrd\u001b[0m\u001b[1;33m.\u001b[0m\u001b[0mopen_workbook\u001b[0m\u001b[1;33m(\u001b[0m\u001b[1;34m'C:/Users/ashkrelja/Documents/Wall_Street_Lending/Marketing/Email/Programmatic_Email/Realtor_Data/Realtor_MI_Emails_Final_CleanedV1.xlsx'\u001b[0m\u001b[1;33m,\u001b[0m\u001b[1;34m'r'\u001b[0m\u001b[1;33m)\u001b[0m\u001b[1;33m\u001b[0m\u001b[0m\n\u001b[0m",
      "\u001b[0;32mC:\\Users\\ashkrelja\\AppData\\Local\\Continuum\\Anaconda2\\lib\\site-packages\\xlrd\\__init__.pyc\u001b[0m in \u001b[0;36mopen_workbook\u001b[0;34m(filename, logfile, verbosity, use_mmap, file_contents, encoding_override, formatting_info, on_demand, ragged_rows)\u001b[0m\n\u001b[1;32m    393\u001b[0m         \u001b[0mpeek\u001b[0m \u001b[1;33m=\u001b[0m \u001b[0mfile_contents\u001b[0m\u001b[1;33m[\u001b[0m\u001b[1;33m:\u001b[0m\u001b[0mpeeksz\u001b[0m\u001b[1;33m]\u001b[0m\u001b[1;33m\u001b[0m\u001b[0m\n\u001b[1;32m    394\u001b[0m     \u001b[1;32melse\u001b[0m\u001b[1;33m:\u001b[0m\u001b[1;33m\u001b[0m\u001b[0m\n\u001b[0;32m--> 395\u001b[0;31m         \u001b[1;32mwith\u001b[0m \u001b[0mopen\u001b[0m\u001b[1;33m(\u001b[0m\u001b[0mfilename\u001b[0m\u001b[1;33m,\u001b[0m \u001b[1;34m\"rb\"\u001b[0m\u001b[1;33m)\u001b[0m \u001b[1;32mas\u001b[0m \u001b[0mf\u001b[0m\u001b[1;33m:\u001b[0m\u001b[1;33m\u001b[0m\u001b[0m\n\u001b[0m\u001b[1;32m    396\u001b[0m             \u001b[0mpeek\u001b[0m \u001b[1;33m=\u001b[0m \u001b[0mf\u001b[0m\u001b[1;33m.\u001b[0m\u001b[0mread\u001b[0m\u001b[1;33m(\u001b[0m\u001b[0mpeeksz\u001b[0m\u001b[1;33m)\u001b[0m\u001b[1;33m\u001b[0m\u001b[0m\n\u001b[1;32m    397\u001b[0m     \u001b[1;32mif\u001b[0m \u001b[0mpeek\u001b[0m \u001b[1;33m==\u001b[0m \u001b[1;34mb\"PK\\x03\\x04\"\u001b[0m\u001b[1;33m:\u001b[0m \u001b[1;31m# a ZIP file\u001b[0m\u001b[1;33m\u001b[0m\u001b[0m\n",
      "\u001b[0;31mIOError\u001b[0m: [Errno 2] No such file or directory: 'C:/Users/ashkrelja/Documents/Wall_Street_Lending/Marketing/Email/Programmatic_Email/Realtor_Data/Realtor_MI_Emails_Final_CleanedV1.xlsx'"
     ],
     "output_type": "error"
    }
   ],
   "source": [
    "import xlrd\n",
    "                            \n",
    "stuff = xlrd.open_workbook('C:/Users/ashkrelja/Documents/Wall_Street_Lending/Marketing/Email/Programmatic_Email/Realtor_Data/Realtor_MI_Emails_Final_CleanedV1.xlsx','r') "
   ]
  },
  {
   "cell_type": "code",
   "execution_count": null,
   "metadata": {
    "collapsed": true
   },
   "outputs": [],
   "source": []
  }
 ],
 "metadata": {
  "kernelspec": {
   "display_name": "Python 2",
   "language": "python",
   "name": "python2"
  },
  "language_info": {
   "codemirror_mode": {
    "name": "ipython",
    "version": 2
   },
   "file_extension": ".py",
   "mimetype": "text/x-python",
   "name": "python",
   "nbconvert_exporter": "python",
   "pygments_lexer": "ipython2",
   "version": "2.7.13"
  }
 },
 "nbformat": 4,
 "nbformat_minor": 2
}
